{
 "cells": [
  {
   "cell_type": "code",
   "execution_count": null,
   "metadata": {},
   "outputs": [],
   "source": [
    "%load_ext autoreload\n",
    "%autoreload 2\n"
   ]
  },
  {
   "cell_type": "code",
   "execution_count": null,
   "metadata": {},
   "outputs": [],
   "source": [
    "from AutomationBots.LinkedInHelper.scraper import (\n",
    "    open_linkedin,\n",
    "    go_to_saved_jobs,\n",
    "    get_all_saved_jobs,\n",
    "    open_applied_jobs\n",
    ")\n",
    "from AutomationBots.SeleniumInitializer import initialize_selenium_driver\n",
    "import os"
   ]
  },
  {
   "cell_type": "code",
   "execution_count": null,
   "metadata": {},
   "outputs": [],
   "source": [
    "driver = initialize_selenium_driver(\n",
    "    os.getenv(\"robinhood_user\"),\n",
    "    os.getenv(\"robinhood_pass\"),\n",
    "    url=\"https://www.robinhood.com/login\",\n",
    ")"
   ]
  },
  {
   "cell_type": "code",
   "execution_count": null,
   "metadata": {},
   "outputs": [],
   "source": [
    "from selenium import webdriver\n",
    "from selenium.webdriver.common.by import By\n",
    "from selenium.webdriver.chrome.service import Service\n",
    "from webdriver_manager.chrome import ChromeDriverManager\n",
    "import time\n",
    "from collections import defaultdict\n",
    "import random\n"
   ]
  },
  {
   "cell_type": "code",
   "execution_count": null,
   "metadata": {},
   "outputs": [],
   "source": [
    "from selenium import webdriver\n",
    "from selenium.webdriver.remote.webdriver import WebDriver\n",
    "\n",
    "#Set manually - read/write from a file for automation\n",
    "session_id =  \"e0137cd71ab49b111f0151c756625d31\"\n",
    "executor_url = \"http://localhost:50491\"\n",
    "\n",
    "def attach_to_session(executor_url, session_id):\n",
    "    original_execute = WebDriver.execute\n",
    "    def new_command_execute(self, command, params=None):\n",
    "        if command == \"newSession\":\n",
    "            # Mock the response\n",
    "            return {'success': 0, 'value': None, 'sessionId': session_id}\n",
    "        else:\n",
    "            return original_execute(self, command, params)\n",
    "    # Patch the function before creating the driver object\n",
    "    WebDriver.execute = new_command_execute\n",
    "    driver = webdriver.Remote(command_executor=executor_url, desired_capabilities={})\n",
    "    driver.session_id = session_id\n",
    "    # Replace the patched function with original function\n",
    "    WebDriver.execute = original_execute\n",
    "    return driver\n",
    " \n",
    "\n",
    "remote_session = 0\n",
    "\n",
    "#Try to connect to the last opened session - if failing open new window\n",
    "try:\n",
    "    driver = attach_to_session(executor_url,session_id)\n",
    "    driver.current_url\n",
    "    print(\" Driver has an active window we have connected to it and running here now : \")\n",
    "    print(\" Chrome session ID \",session_id)\n",
    "    print(\" executor_url\",executor_url)\n",
    "\n",
    "except Exception:\n",
    "    print(\"No Driver window open - make a new one\")\n",
    "    driver = webdriver.Chrome(service=Service(ChromeDriverManager().install()),options=myoptions)\n",
    "    session_id = driver.session_id \n",
    "    executor_url = driver.command_executor._url"
   ]
  },
  {
   "cell_type": "code",
   "execution_count": null,
   "metadata": {},
   "outputs": [],
   "source": [
    "from selenium import webdriver\n",
    "from selenium.webdriver.chrome.options import Options\n",
    "from selenium.webdriver.chrome.service import Service\n",
    "\n",
    "options = webdriver.ChromeOptions()\n",
    "profile_path = r'C:\\Users\\weiya\\AppData\\Local\\Google\\Chrome\\User Data'\n",
    "profile_name = \"Default\"\n",
    "chrome_path = r'C:\\Program Files\\Google\\Chrome\\Application\\chrome.exe'\n",
    "options.binary_location = chrome_path\n",
    "# Set up Chrome options\n",
    "options = webdriver.ChromeOptions()\n",
    "options.add_argument(f\"--user-data-dir={profile_path}\")\n",
    "options.add_argument(f\"--profile-directory={profile_name}\")\n",
    "# options.add_experimental_option(\"detach\", True)\n",
    "\n",
    "# Set up the Service with the path to chromedriver.exe\n",
    "chromedriver_path = r\"C:\\Users\\weiya\\Downloads\\chromedriver.exe\"\n",
    "service = Service(chromedriver_path)\n",
    "# Initialize the WebDriver with the specified service and options\n",
    "driver = webdriver.Chrome(service=service, options=options)\n",
    "\n",
    "# Open a website to test\n",
    "driver.get(\"https://www.linkedin.com/login\")\n",
    "driver.maximize_window()"
   ]
  },
  {
   "cell_type": "code",
   "execution_count": null,
   "metadata": {},
   "outputs": [],
   "source": [
    "import subprocess\n",
    "subprocess.call(\"taskkill /f /im chrome.exe /T\")"
   ]
  },
  {
   "cell_type": "code",
   "execution_count": null,
   "metadata": {},
   "outputs": [],
   "source": []
  }
 ],
 "metadata": {
  "kernelspec": {
   "display_name": "Python 3",
   "language": "python",
   "name": "python3"
  },
  "language_info": {
   "codemirror_mode": {
    "name": "ipython",
    "version": 3
   },
   "file_extension": ".py",
   "mimetype": "text/x-python",
   "name": "python",
   "nbconvert_exporter": "python",
   "pygments_lexer": "ipython3",
   "version": "3.12.10"
  }
 },
 "nbformat": 4,
 "nbformat_minor": 2
}
