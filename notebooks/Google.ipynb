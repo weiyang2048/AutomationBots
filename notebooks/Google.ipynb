{
 "cells": [
  {
   "cell_type": "code",
   "execution_count": 43,
   "metadata": {},
   "outputs": [
    {
     "name": "stdout",
     "output_type": "stream",
     "text": [
      "Message ID: {'id': '1956dfdd93839b80', 'threadId': '1956dfdd93839b80'}\n",
      "Message ID: {'id': '19566a7409a395f6', 'threadId': '19566a7409a395f6'}\n"
     ]
    }
   ],
   "source": [
    "from googleapiclient.discovery import build\n",
    "from google_auth_oauthlib.flow import InstalledAppFlow\n",
    "from google.auth.transport.requests import Request\n",
    "import os.path\n",
    "import pickle\n",
    "from pyhere import here\n",
    "\n",
    "SCOPES = [\"https://mail.google.com/\"]  # full access\n",
    "# https://www.googleapis.com/auth/gmail.readonly\n",
    "creds = None\n",
    "if os.path.exists(\"token.pickle\"):\n",
    "    with open(\"token.pickle\", \"rb\") as token:\n",
    "        creds = pickle.load(token)\n",
    "if not creds or not creds.valid:\n",
    "    if creds and creds.expired and creds.refresh_token:\n",
    "        creds.refresh(Request())\n",
    "    else:\n",
    "        flow = InstalledAppFlow.from_client_secrets_file(\n",
    "            here(\"credentials.json\"), SCOPES\n",
    "        )\n",
    "        creds = flow.run_local_server(port=0)\n",
    "    with open(\"token.pickle\", \"wb\") as token:\n",
    "        pickle.dump(creds, token)\n",
    "\n",
    "service = build(\"gmail\", \"v1\", credentials=creds)\n",
    "results = (\n",
    "    service.users()\n",
    "    .messages()\n",
    "    .list(userId=\"me\", maxResults=10, q=\"from:robinhood.com\")\n",
    "    .execute()\n",
    ")\n",
    "messages = results.get(\"messages\", [])\n",
    "for message in messages:\n",
    "    print(f\"Message ID: {message}\")"
   ]
  },
  {
   "cell_type": "code",
   "execution_count": null,
   "metadata": {},
   "outputs": [
    {
     "name": "stdout",
     "output_type": "stream",
     "text": [
      "{'id': '1956dfdd93839b80', 'threadId': '1956dfdd93839b80', 'labelIds': ['IMPORTANT', 'CATEGORY_UPDATES', 'INBOX'], 'snippet': 'Hi Wei, Thank you for taking the time to apply for the Senior Data Scientist, Product position. We&#39;ve been extremely fortunate to have a fantastic response from accomplished candidates such as', 'payload': {'partId': '', 'mimeType': 'multipart/alternative', 'filename': '', 'headers': [{'name': 'Delivered-To', 'value': 'weiyang2048@gmail.com'}, {'name': 'Received', 'value': 'by 2002:a05:7301:378e:b0:160:182c:4392 with SMTP id jw14csp876016dyb;        Thu, 6 Mar 2025 16:25:07 -0800 (PST)'}, {'name': 'X-Google-Smtp-Source', 'value': 'AGHT+IHUbFdq024crC1Y0LLdxzaNE/vPjuFeLzMuHfY6a7XTTzOmEfburAZwSj1jYwbCSuzDi9Ub'}, {'name': 'X-Received', 'value': 'by 2002:a05:622a:19a5:b0:474:daf2:a029 with SMTP id d75a77b69052e-47608bcfa7dmr19463801cf.0.1741307107593;        Thu, 06 Mar 2025 16:25:07 -0800 (PST)'}, {'name': 'ARC-Seal', 'value': 'i=1; a=rsa-sha256; t=1741307107; cv=none;        d=google.com; s=arc-20240605;        b=a2U4NAYNR4t7kt0Ljlggdvp+c4/sxAqad9i7QTu4m7xs0hP84GXlDWFp2JP9/l0imq         8ALE00VbHFZ2csqC8R8b8Qh5+fMmQPJB7kkuWmNO/jKxZD7kjGPeVLEkFl1as04Yi1C3         EbAr4K+wb9G8m4KwaGfaMgxLsQ5Cd4LZ3tLYBoNrVfk1tKLl6dVC1spPjbriqJz0eGT0         iajI9asAXB21YtyKbCmjVxwirAUfOR97rFOu9OBb0DPSbWv/xv/sMWNQUPcd6t3zeZXm         OWojj5wvEaV1GjJ82f2K1AfXB1vkXbdTw/Hh6uI0/g+tXY5X7mP0ZR35DSgAZYXh4UgS         /WUg=='}, {'name': 'ARC-Message-Signature', 'value': 'i=1; a=rsa-sha256; c=relaxed/relaxed; d=google.com; s=arc-20240605;        h=message-id:list-unsubscribe:to:from:subject:mime-version:date         :dkim-signature:dkim-signature;        bh=JCJWlKczS0NQjMVKhwpx/bNZSOXoexdS2lxG8VH7Gw0=;        fh=jTFoTILGM1+wN6UYoMU2Mo04fF3HYb3L6KAp8YjHzQI=;        b=MRDG/+ND5xYYA55hBvw6H8F3K0+HeUjbaoiyJkK3Ido1fZM325VxDdahP756Pdzuv9         /5zPXRSEohzzDyK9HVs3pAPxFZ24kEW/LWtfyNwk6VXXNk3S3qBtEWnUpJE388z4A/kf         JyHcMKfZ/S85PLKSqHmhbD9B+D8h1XfbRysUBM5x3p/6iSiMnVpQMP2smyS08FdDf5B0         Y5r4iOLunD76bPGKWcYnq7sE8KtvlVBXxHbw8eUE+dIPIUS19YYoCurNCrFyGpDKqkSP         7/v681GHMJdWsMJUghoQE5HRZ0xcZ6jLnMh74BRtqZX4o1kGgUsWMS5LrGmNc85w7qh/         vEjA==;        dara=google.com'}, {'name': 'ARC-Authentication-Results', 'value': 'i=1; mx.google.com;       dkim=pass header.i=@gh-mail.robinhood.com header.s=krs header.b=d6EMAawQ;       dkim=pass header.i=@mailgun.org header.s=mg header.b=WEWu5sBE;       spf=pass (google.com: domain of postmaster@gh-mail.robinhood.com designates 69.72.40.95 as permitted sender) smtp.mailfrom=postmaster@gh-mail.robinhood.com;       dmarc=pass (p=QUARANTINE sp=QUARANTINE dis=NONE) header.from=robinhood.com'}, {'name': 'Return-Path', 'value': '<postmaster@gh-mail.robinhood.com>'}, {'name': 'Received', 'value': 'from mail-40-95.greenhouse.io (mail-40-95.greenhouse.io. [69.72.40.95])        by mx.google.com with UTF8SMTPS id d75a77b69052e-4751daf8d22si23275171cf.217.2025.03.06.16.25.07        for <weiyang2048@gmail.com>        (version=TLS1_3 cipher=TLS_AES_128_GCM_SHA256 bits=128/128);        Thu, 06 Mar 2025 16:25:07 -0800 (PST)'}, {'name': 'Received-SPF', 'value': 'pass (google.com: domain of postmaster@gh-mail.robinhood.com designates 69.72.40.95 as permitted sender) client-ip=69.72.40.95;'}, {'name': 'Authentication-Results', 'value': 'mx.google.com;       dkim=pass header.i=@gh-mail.robinhood.com header.s=krs header.b=d6EMAawQ;       dkim=pass header.i=@mailgun.org header.s=mg header.b=WEWu5sBE;       spf=pass (google.com: domain of postmaster@gh-mail.robinhood.com designates 69.72.40.95 as permitted sender) smtp.mailfrom=postmaster@gh-mail.robinhood.com;       dmarc=pass (p=QUARANTINE sp=QUARANTINE dis=NONE) header.from=robinhood.com'}, {'name': 'DKIM-Signature', 'value': 'a=rsa-sha256; v=1; c=relaxed/relaxed; d=gh-mail.robinhood.com; q=dns/txt; s=krs; t=1741307106; x=1741314306; h=Message-Id: List-Unsubscribe: To: To: From: From: Subject: Subject: Content-Type: Mime-Version: Date: X-Feedback-Id: Sender; bh=JCJWlKczS0NQjMVKhwpx/bNZSOXoexdS2lxG8VH7Gw0=; b=d6EMAawQO5bhKk3BLuYrfEsuCnZMm2GC98sad/5XOyfINqEDbKnattAYeY2iqhA369j2USv6dd2GlE76Q+hLy07FpD13SuwwB+2Sj21KeWjWodk1QtcSd7egNFcELQXtSZR71KVxaUIIxErRyTanmTgCyu/lxBEVyTL+TuZ11YU='}, {'name': 'DKIM-Signature', 'value': 'a=rsa-sha256; v=1; c=relaxed/relaxed; d=mailgun.org; q=dns/txt; s=mg; t=1741307106; x=1741314306; h=Message-Id: List-Unsubscribe: To: To: From: From: Subject: Subject: Content-Type: Mime-Version: Date: X-Feedback-Id: Sender; bh=JCJWlKczS0NQjMVKhwpx/bNZSOXoexdS2lxG8VH7Gw0=; b=WEWu5sBEiM9ucdPDf7TodAFsNvYGi9q93o5u5EvPFY+58+xRtgBtQDN6njLBWdXGhZZqh1YSHDM6prp4MaSX2lEcflX7PLUnxuvi8FKM/rpLhAnnBoAdq1FHIcvfFpmh/Kh4EMxSOSacghG1QY36+9gL2aPzmeZkKWiMdAPAuZE='}, {'name': 'X-Feedback-Id', 'value': 'postmaster@gh-mail.robinhood.com:ScheduledCandidateEmail:5a85f8934f41fe00016b8712:mailgun'}, {'name': 'X-Mailgun-Sending-Ip', 'value': '69.72.40.95'}, {'name': 'X-Mailgun-Sending-Ip-Pool-Name', 'value': ''}, {'name': 'X-Mailgun-Sending-Ip-Pool', 'value': ''}, {'name': 'X-Mailgun-Sid', 'value': 'WyI0YmJiMiIsIndlaXlhbmcyMDQ4QGdtYWlsLmNvbSIsIjdjZDQxNSJd'}, {'name': 'Received', 'value': 'by 998bbe769f9b with HTTP id 67ca3ce2f3b5d1d9b880c959; Fri, 07 Mar 2025 00:25:06 GMT'}, {'name': 'Date', 'value': 'Fri, 07 Mar 2025 00:25:06 +0000'}, {'name': 'Mime-Version', 'value': '1.0'}, {'name': 'Content-Type', 'value': 'multipart/alternative; boundary=\"cbd7c4583a3ec241c9d4e72b0d4c71bfc0256ea3d01085bb8efe6c2c592d\"'}, {'name': 'Subject', 'value': 'Important information about your application to Robinhood'}, {'name': 'From', 'value': 'no-reply@robinhood.com'}, {'name': 'To', 'value': 'weiyang2048@gmail.com'}, {'name': 'X-Mailgun-Tag', 'value': 'ScheduledCandidateEmail'}, {'name': 'X-Mailgun-Native-Send', 'value': 'true'}, {'name': 'List-Unsubscribe', 'value': ''}, {'name': 'X-Mailgun-Variables', 'value': '{\"org_id\": \"3121\", \"person_id\": \"387828034\", \"silo_id\": \"1\"}'}, {'name': 'Message-Id', 'value': '<20250307002506.b35a4fe3a967fba6@gh-mail.robinhood.com>'}], 'body': {'size': 0}, 'parts': [{'partId': '0', 'mimeType': 'text/plain', 'filename': '', 'headers': [{'name': 'Content-Transfer-Encoding', 'value': 'quoted-printable'}, {'name': 'Content-Type', 'value': 'text/plain; charset=\"utf-8\"'}], 'body': {'size': 630, 'data': 'SGkgV2VpLA0KDQpUaGFuayB5b3UgZm9yIHRha2luZyB0aGUgdGltZSB0byBhcHBseSBmb3IgdGhlIFNlbmlvciBEYXRhIFNjaWVudGlzdCwgUHJvZHVjdCBwb3NpdGlvbi4NCg0KV2UndmUgYmVlbiBleHRyZW1lbHkgZm9ydHVuYXRlIHRvIGhhdmUgYSBmYW50YXN0aWMgcmVzcG9uc2UgZnJvbSBhY2NvbXBsaXNoZWQgY2FuZGlkYXRlcyBzdWNoIGFzIHlvdXJzZWxmIGZvciB0aGlzIHJvbGUuIEhvd2V2ZXIsIGFmdGVyIGNhcmVmdWwgY29uc2lkZXJhdGlvbiwgd2UndmUgbWFkZSB0aGUgZGVjaXNpb24gdG8gbm90IG1vdmUgZm9yd2FyZCB3aXRoIHRoZSBpbnRlcnZpZXcgcHJvY2VzcyBhdCB0aGlzIHRpbWUuIFdlIHJlYWxseSBhcHByZWNpYXRlIHlvdXIgdGltZSBhbmQgZWZmb3J0cyBpbiBhcHBseWluZy4gV2XigJlkIGxvdmUgdG8gc3RheSBpbiB0b3VjaCBhcyBvdXIgdGVhbSBjb250aW51ZXMgdG8gZ3JvdyBhbmQgcmVjb25uZWN0IGRvd24gdGhlIGxpbmUuDQoNClRoYW5rcyBhZ2FpbiBmb3IgeW91ciBpbnRlcmVzdCBpbiBSb2Jpbmhvb2QsIGFuZCB3ZSB3aXNoIHlvdSB0aGUgYmVzdCBvZiBsdWNrIGluIHlvdXIgc2VhcmNoIQ0KDQpLaW5kIHJlZ2FyZHMsDQpSb2Jpbmhvb2QgUmVjcnVpdGluZyBUZWFt'}}, {'partId': '1', 'mimeType': 'text/html', 'filename': '', 'headers': [{'name': 'Content-Transfer-Encoding', 'value': '7bit'}, {'name': 'Content-Type', 'value': 'text/html; charset=ascii'}], 'body': {'size': 667, 'data': 'PHA-SGkgV2VpLDxicj48YnI-VGhhbmsgeW91IGZvciB0YWtpbmcgdGhlIHRpbWUgdG8gYXBwbHkgZm9yIHRoZSBTZW5pb3IgRGF0YSBTY2llbnRpc3QsIFByb2R1Y3QgcG9zaXRpb24uJm5ic3A7PGJyPjxicj5XZSd2ZSBiZWVuIGV4dHJlbWVseSBmb3J0dW5hdGUgdG8gaGF2ZSBhIGZhbnRhc3RpYyByZXNwb25zZSBmcm9tIGFjY29tcGxpc2hlZCBjYW5kaWRhdGVzIHN1Y2ggYXMgeW91cnNlbGYgZm9yIHRoaXMgcm9sZS4gSG93ZXZlciwgYWZ0ZXIgY2FyZWZ1bCBjb25zaWRlcmF0aW9uLCB3ZSd2ZSBtYWRlIHRoZSBkZWNpc2lvbiB0byBub3QgbW92ZSBmb3J3YXJkIHdpdGggdGhlIGludGVydmlldyBwcm9jZXNzIGF0IHRoaXMgdGltZS4gV2UgcmVhbGx5IGFwcHJlY2lhdGUgeW91ciB0aW1lIGFuZCBlZmZvcnRzIGluIGFwcGx5aW5nLiBXZSZyc3F1bztkIGxvdmUgdG8gc3RheSBpbiB0b3VjaCBhcyBvdXIgdGVhbSBjb250aW51ZXMgdG8gZ3JvdyBhbmQgcmVjb25uZWN0IGRvd24gdGhlIGxpbmUuPC9wPg0KPHA-VGhhbmtzIGFnYWluIGZvciB5b3VyIGludGVyZXN0IGluIFJvYmluaG9vZCwgYW5kIHdlIHdpc2ggeW91IHRoZSBiZXN0IG9mIGx1Y2sgaW4geW91ciBzZWFyY2ghPC9wPg0KPHA-S2luZCByZWdhcmRzLDxicj5Sb2Jpbmhvb2QgUmVjcnVpdGluZyBUZWFtPC9wPg=='}}]}, 'sizeEstimate': 6675, 'historyId': '3810076', 'internalDate': '1741307106000'}\n",
      "['id', 'threadId', 'labelIds', 'snippet', 'payload', 'sizeEstimate', 'historyId', 'internalDate']\n"
     ]
    }
   ],
   "source": [
    "# get the message content\n",
    "message = service.users().messages().get(userId=\"me\", id=messages[0][\"id\"]).execute()\n",
    "print(message)\n",
    "print(list(message.keys()))"
   ]
  },
  {
   "cell_type": "code",
   "execution_count": 73,
   "metadata": {},
   "outputs": [
    {
     "name": "stdout",
     "output_type": "stream",
     "text": [
      "From=no-reply@robinhood.com,\n",
      "To=weiyang2048@gmail.com,\n",
      "Date=Fri, 07 Mar 2025 00:25:06 +0000,\n",
      "Subject=Important information about your application to Robinhood\n",
      "snippet=Hi Wei, Thank you for taking the time to apply for the Senior Data Scientist, Product position. We&#39;ve been extremely fortunate to have a fantastic response from accomplished candidates such as\n",
      "Body:\n",
      "\n",
      "Hi Wei,\n",
      "\n",
      "Thank you for taking the time to apply for the Senior Data Scientist, Product position.\n",
      "\n",
      "We've been extremely fortunate to have a fantastic response from accomplished candidates such as yourself for this role. However, after careful consideration, we've made the decision to not move forward with the interview process at this time. We really appreciate your time and efforts in applying. We’d love to stay in touch as our team continues to grow and reconnect down the line.\n",
      "\n",
      "Thanks again for your interest in Robinhood, and we wish you the best of luck in your search!\n",
      "\n",
      "Kind regards,\n",
      "Robinhood Recruiting Team\n"
     ]
    },
    {
     "ename": "HttpError",
     "evalue": "<HttpError 404 when requesting https://gmail.googleapis.com/gmail/v1/users/me/messages/1956dfdd93839b80? returned \"Requested entity was not found.\". Details: \"[{'message': 'Requested entity was not found.', 'domain': 'global', 'reason': 'notFound'}]\">",
     "output_type": "error",
     "traceback": [
      "\u001b[31m---------------------------------------------------------------------------\u001b[39m",
      "\u001b[31mHttpError\u001b[39m                                 Traceback (most recent call last)",
      "\u001b[36mCell\u001b[39m\u001b[36m \u001b[39m\u001b[32mIn[73]\u001b[39m\u001b[32m, line 36\u001b[39m\n\u001b[32m     34\u001b[39m m = Message(message)\n\u001b[32m     35\u001b[39m \u001b[38;5;28mprint\u001b[39m(m)\n\u001b[32m---> \u001b[39m\u001b[32m36\u001b[39m \u001b[43mm\u001b[49m\u001b[43m.\u001b[49m\u001b[43mdelete\u001b[49m\u001b[43m(\u001b[49m\u001b[43m)\u001b[49m\n\u001b[32m     37\u001b[39m \u001b[38;5;28mprint\u001b[39m(\u001b[33m\"\u001b[39m\u001b[33m---\u001b[39m\u001b[33m\"\u001b[39m)\n\u001b[32m     38\u001b[39m m = Message(message)\n",
      "\u001b[36mCell\u001b[39m\u001b[36m \u001b[39m\u001b[32mIn[73]\u001b[39m\u001b[32m, line 31\u001b[39m, in \u001b[36mMessage.delete\u001b[39m\u001b[34m(self)\u001b[39m\n\u001b[32m     30\u001b[39m \u001b[38;5;28;01mdef\u001b[39;00m\u001b[38;5;250m \u001b[39m\u001b[34mdelete\u001b[39m(\u001b[38;5;28mself\u001b[39m):\n\u001b[32m---> \u001b[39m\u001b[32m31\u001b[39m     \u001b[43mservice\u001b[49m\u001b[43m.\u001b[49m\u001b[43musers\u001b[49m\u001b[43m(\u001b[49m\u001b[43m)\u001b[49m\u001b[43m.\u001b[49m\u001b[43mmessages\u001b[49m\u001b[43m(\u001b[49m\u001b[43m)\u001b[49m\u001b[43m.\u001b[49m\u001b[43mdelete\u001b[49m\u001b[43m(\u001b[49m\u001b[43muserId\u001b[49m\u001b[43m=\u001b[49m\u001b[33;43m\"\u001b[39;49m\u001b[33;43mme\u001b[39;49m\u001b[33;43m\"\u001b[39;49m\u001b[43m,\u001b[49m\u001b[43m \u001b[49m\u001b[38;5;28;43mid\u001b[39;49m\u001b[43m=\u001b[49m\u001b[38;5;28;43mself\u001b[39;49m\u001b[43m.\u001b[49m\u001b[43mmessage\u001b[49m\u001b[43m[\u001b[49m\u001b[33;43m\"\u001b[39;49m\u001b[33;43mid\u001b[39;49m\u001b[33;43m\"\u001b[39;49m\u001b[43m]\u001b[49m\u001b[43m)\u001b[49m\u001b[43m.\u001b[49m\u001b[43mexecute\u001b[49m\u001b[43m(\u001b[49m\u001b[43m)\u001b[49m\n",
      "\u001b[36mFile \u001b[39m\u001b[32m~\\AppData\\Local\\Packages\\PythonSoftwareFoundation.Python.3.12_qbz5n2kfra8p0\\LocalCache\\local-packages\\Python312\\site-packages\\googleapiclient\\_helpers.py:130\u001b[39m, in \u001b[36mpositional.<locals>.positional_decorator.<locals>.positional_wrapper\u001b[39m\u001b[34m(*args, **kwargs)\u001b[39m\n\u001b[32m    128\u001b[39m     \u001b[38;5;28;01melif\u001b[39;00m positional_parameters_enforcement == POSITIONAL_WARNING:\n\u001b[32m    129\u001b[39m         logger.warning(message)\n\u001b[32m--> \u001b[39m\u001b[32m130\u001b[39m \u001b[38;5;28;01mreturn\u001b[39;00m \u001b[43mwrapped\u001b[49m\u001b[43m(\u001b[49m\u001b[43m*\u001b[49m\u001b[43margs\u001b[49m\u001b[43m,\u001b[49m\u001b[43m \u001b[49m\u001b[43m*\u001b[49m\u001b[43m*\u001b[49m\u001b[43mkwargs\u001b[49m\u001b[43m)\u001b[49m\n",
      "\u001b[36mFile \u001b[39m\u001b[32m~\\AppData\\Local\\Packages\\PythonSoftwareFoundation.Python.3.12_qbz5n2kfra8p0\\LocalCache\\local-packages\\Python312\\site-packages\\googleapiclient\\http.py:938\u001b[39m, in \u001b[36mHttpRequest.execute\u001b[39m\u001b[34m(self, http, num_retries)\u001b[39m\n\u001b[32m    936\u001b[39m     callback(resp)\n\u001b[32m    937\u001b[39m \u001b[38;5;28;01mif\u001b[39;00m resp.status >= \u001b[32m300\u001b[39m:\n\u001b[32m--> \u001b[39m\u001b[32m938\u001b[39m     \u001b[38;5;28;01mraise\u001b[39;00m HttpError(resp, content, uri=\u001b[38;5;28mself\u001b[39m.uri)\n\u001b[32m    939\u001b[39m \u001b[38;5;28;01mreturn\u001b[39;00m \u001b[38;5;28mself\u001b[39m.postproc(resp, content)\n",
      "\u001b[31mHttpError\u001b[39m: <HttpError 404 when requesting https://gmail.googleapis.com/gmail/v1/users/me/messages/1956dfdd93839b80? returned \"Requested entity was not found.\". Details: \"[{'message': 'Requested entity was not found.', 'domain': 'global', 'reason': 'notFound'}]\">"
     ]
    }
   ],
   "source": [
    "import base64\n",
    "class Message:\n",
    "    def __init__(self, message):\n",
    "        self.message = message\n",
    "        self.snippet = message[\"snippet\"]\n",
    "        self.get_headers()\n",
    "        self.body = base64.urlsafe_b64decode(\n",
    "            message[\"payload\"][\"parts\"][0][\"body\"][\"data\"]\n",
    "        ).decode(\"utf-8\")\n",
    "\n",
    "    def get_headers(self):\n",
    "        self.headers = {\n",
    "            header[\"name\"]: header[\"value\"]\n",
    "            for header in self.message[\"payload\"][\"headers\"]\n",
    "        }\n",
    "        self.subject = self.headers[\"Subject\"]\n",
    "        self.from_ = self.headers[\"From\"]\n",
    "        self.to = self.headers[\"To\"]\n",
    "        self.date = self.headers[\"Date\"]\n",
    "        return self.headers\n",
    "\n",
    "    def __str__(self):\n",
    "        return (\n",
    "            f\"From={self.from_},\\n\"\n",
    "            f\"To={self.to},\\n\"\n",
    "            f\"Date={self.date},\\n\"\n",
    "            f\"Subject={self.subject}\\n\"\n",
    "            f\"snippet={self.snippet}\\n\"\n",
    "            f\"Body:\\n\\n{self.body}\"\n",
    "        )\n",
    "    def delete(self):\n",
    "        service.users().messages().delete(userId=\"me\", id=self.message[\"id\"]).execute()\n",
    "\n",
    "    # todo : get what is in the deleted box\n",
    "m = Message(message)\n",
    "print(m)\n",
    "m.delete()\n",
    "print(\"---\")\n",
    "m = Message(message)\n",
    "print(m)\n",
    "# for key in message.keys():\n",
    "#     print(key, message[key])\n",
    "# print(\"---\")\n",
    "\n",
    "# for key in message[\"payload\"].keys():\n",
    "#     print(key, message[\"payload\"][key])\n",
    "\n",
    "# for part in message[\"payload\"][\"parts\"]:\n",
    "#     print(part)\n",
    "# print(\"---\")\n",
    "\n",
    "# for header in message[\"payload\"][\"headers\"]:\n",
    "#     print(header)\n",
    "\n",
    "# print(\"---\")\n",
    "# import base64\n",
    "\n",
    "# # decode the message content\n",
    "# message_content = message[\"payload\"][\"parts\"][0][\"body\"][\"data\"]\n",
    "# message_content = base64.urlsafe_b64decode(message_content).decode(\"utf-8\")\n",
    "# print(message_content)"
   ]
  },
  {
   "cell_type": "code",
   "execution_count": null,
   "metadata": {},
   "outputs": [],
   "source": []
  }
 ],
 "metadata": {
  "kernelspec": {
   "display_name": "Python 3",
   "language": "python",
   "name": "python3"
  },
  "language_info": {
   "codemirror_mode": {
    "name": "ipython",
    "version": 3
   },
   "file_extension": ".py",
   "mimetype": "text/x-python",
   "name": "python",
   "nbconvert_exporter": "python",
   "pygments_lexer": "ipython3",
   "version": "3.12.10"
  }
 },
 "nbformat": 4,
 "nbformat_minor": 2
}
